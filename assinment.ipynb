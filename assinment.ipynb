{
 "cells": [
  {
   "cell_type": "markdown",
   "metadata": {},
   "source": [
    "# Notebook Title\n",
    "## Lower level Title, maybe category\n",
    "### Introduction"
   ]
  },
  {
   "cell_type": "markdown",
   "metadata": {},
   "source": [
    "In this notebook I will proceede an assignment for __IBM__ DS series of courses of [Coursera](https://www.coursera.org/professional-certificates/ibm-data-science). "
   ]
  },
  {
   "cell_type": "markdown",
   "metadata": {},
   "source": [
    "### Languages Used In Data Science\n",
    "There are many programming languages that can be and are used for Data Science. Here are some of the most popular ones:\n",
    "\n",
    "* Python\n",
    "* R\n",
    "* Java\n",
    "* С/C++\n",
    "* Julia\n",
    "* etc.\n",
    "\n",
    "This list isn't exhaustive, but it includes the most well-known and \"classical\" choices. Personally, I\n"
   ]
  },
  {
   "cell_type": "markdown",
   "metadata": {},
   "source": [
    "### Libraries Used For Data Science\n",
    "\n",
    "In ***R*** for __Data manipulation__ we have\n",
    "* dplyr\n",
    "* tidyr\n",
    "* readr \n",
    "* stringr\n",
    "\n",
    "For __Data Visualization__ \n",
    "\n",
    "* ggplot2\n",
    "* GGally\n",
    "* ggmap\n",
    "\n",
    "For __Machine Learning__\n",
    "\n",
    "* caret\n",
    "\n",
    "In ***Python*** for __Data Manipulation__ we have\n",
    "\n",
    "* pandas \n",
    "* numpy\n",
    "* scipy\n",
    "* polaris\n",
    "\n",
    "For Web Scraping and __Data Mining__\n",
    "\n",
    "* requests\n",
    "* httpx\n",
    "* BeautifulSoup\n",
    "* pandas\n",
    "\n",
    "For __Data Visualization__\n",
    "\n",
    "* matplotlib\n",
    "* seaborn\n",
    "* plotly\n",
    "* bokeh\n",
    "\n",
    "For __Machine Learning__\n",
    "\n",
    "* scikit-learn\n",
    "* xgboost\n",
    "* adaboost\n",
    "* pyts\n",
    "\n",
    "For __Deep Learning__\n",
    "\n",
    "* TensorFlow\n",
    "* PyTorch\n",
    "* Keras\n",
    "* OpenCV"
   ]
  },
  {
   "cell_type": "markdown",
   "metadata": {},
   "source": [
    "### Data Science tools\n",
    "\n",
    "|Name|What is?| Open/Closed|Popularity|Coolity|\n",
    "|----|--------|------------|----------|-------|\n",
    "|Python|Programming language|Open Sourse|9|10|\n",
    "|R|Programming Language|Open Software|7|10|\n",
    "|SQL|Database Query Language| Dont know|8|10|\n",
    "|git|Version Control| Open|10|10|\n",
    "|github|Cloud Hub for git repositories| Dont Know| 10|10|\n",
    "|Jupyter Notebook| Code+Text = Good Instrument for creating reports| Open i Guess| 10|10|\n",
    "|PostreSQl| DataBase| Open| 7|10|\n",
    "|MongoDB| NOSQL database| Open|7|10|\n",
    "|Tableau| Dashbord Constructor|Closed|7|10|\n",
    "\n",
    "Of course there are a lot more instrument than I listed. For the sake of demonstrating JupyterNotebook skills this is sufficient I guess"
   ]
  },
  {
   "cell_type": "markdown",
   "metadata": {},
   "source": [
    "### Introduction to Arythmetic expression"
   ]
  },
  {
   "cell_type": "code",
   "execution_count": 3,
   "metadata": {},
   "outputs": [
    {
     "name": "stdout",
     "output_type": "stream",
     "text": [
      "Simple way 28\n",
      "Here with variables 28\n",
      "Functions used here 28\n",
      "Lambda expressions is cool 28\n"
     ]
    }
   ],
   "source": [
    "# we can simply\n",
    "print(\"Simple way\",20+4*2)\n",
    "# or we can use a variable\n",
    "a = 20\n",
    "b = 4\n",
    "print(f\"Here with variables {a+b*2}\")\n",
    "# or we can use a function\n",
    "def add(a,b):\n",
    "    return a+b\n",
    "def multiply(a,b):\n",
    "    return a*b\n",
    "print(\"Functions used here {}\".format(add(20,multiply(4,2))))\n",
    "# or we can use lambda\n",
    "add = lambda a,b: a+b\n",
    "multiply = lambda a,b: a*b\n",
    "print(\"Lambda expressions is cool \"+str(add(20,multiply(4,2))))"
   ]
  },
  {
   "cell_type": "code",
   "execution_count": 4,
   "metadata": {},
   "outputs": [
    {
     "name": "stdout",
     "output_type": "stream",
     "text": [
      "Here with variables 80\n"
     ]
    }
   ],
   "source": [
    "# distinct cell for mupltiplication\n",
    "a = 20\n",
    "b = 4\n",
    "print(f\"Here with variables {a*b}\")"
   ]
  },
  {
   "cell_type": "code",
   "execution_count": 7,
   "metadata": {},
   "outputs": [
    {
     "name": "stdout",
     "output_type": "stream",
     "text": [
      "Minutes 100 is 1.6666666666666667 hours\n",
      "Minutes 100 is 1 hours and 40 minutes\n",
      "Minutes 100 is 1 hours and 40 minutes\n"
     ]
    }
   ],
   "source": [
    "# converting minues to hours\n",
    "minutes = 100\n",
    "hours = minutes/60\n",
    "print(f\"Minutes {minutes} is {hours} hours\")\n",
    "# converting keeping the remainder\n",
    "hours = minutes//60\n",
    "remainder = minutes%60\n",
    "print(f\"Minutes {minutes} is {hours} hours and {remainder} minutes\")\n",
    "# or we can use divmod\n",
    "hours, remainder = divmod(minutes,60)\n",
    "print(f\"Minutes {minutes} is {hours} hours and {remainder} minutes\")\n"
   ]
  },
  {
   "cell_type": "markdown",
   "metadata": {},
   "source": [
    "### Objectives\n",
    "\n",
    "* Honing DS skills\n",
    "* discovering new possibilities\n",
    "* Joining community\n",
    "* Making world a better place\n",
    "* Something else i guess\n"
   ]
  },
  {
   "cell_type": "markdown",
   "metadata": {},
   "source": [
    "This is my notebook and my name is Maksim Shek. Yos. "
   ]
  },
  {
   "cell_type": "code",
   "execution_count": null,
   "metadata": {},
   "outputs": [],
   "source": []
  }
 ],
 "metadata": {
  "kernelspec": {
   "display_name": ".venv",
   "language": "python",
   "name": "python3"
  },
  "language_info": {
   "codemirror_mode": {
    "name": "ipython",
    "version": 3
   },
   "file_extension": ".py",
   "mimetype": "text/x-python",
   "name": "python",
   "nbconvert_exporter": "python",
   "pygments_lexer": "ipython3",
   "version": "3.11.3"
  }
 },
 "nbformat": 4,
 "nbformat_minor": 2
}
